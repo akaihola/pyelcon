{
 "cells": [
  {
   "cell_type": "code",
   "execution_count": null,
   "metadata": {
    "collapsed": true
   },
   "outputs": [],
   "source": [
    "!pip install appdirs"
   ]
  },
  {
   "cell_type": "code",
   "execution_count": 15,
   "metadata": {
    "collapsed": true
   },
   "outputs": [],
   "source": [
    "from getpass import getpass\n",
    "import io\n",
    "import json\n",
    "import os\n",
    "import appdirs\n",
    "from pyelcon import valpas"
   ]
  },
  {
   "cell_type": "code",
   "execution_count": null,
   "metadata": {},
   "outputs": [],
   "source": [
    "# Store Fortum user name and password in a configuration file.\n",
    "# To reset them, use:\n",
    "#   os.remove(CONFIG_PATH)\n",
    "\n",
    "CONFIG_DIR = appdirs.user_config_dir('pyelcon')\n",
    "CONFIG_PATH = os.path.join(CONFIG_DIR, 'config.json')\n",
    "try:\n",
    "    configuration = json.load(io.open(CONFIG_PATH))\n",
    "except FileNotFoundError:\n",
    "    configuration = {'fortum': {'username': input('Fortum username:'),\n",
    "                                'password': getpass('Fortum password:'),\n",
    "                                'metering_point': input('Fortum metering point:'),\n",
    "                                'weather_metering_point': input('Fortum weather metering point:')}}\n",
    "    os.makedirs(CONFIG_DIR, exist_ok=True)\n",
    "    json.dump(configuration, io.open(CONFIG_PATH, 'w'))\n",
    "print('Fortum username: {fortum[username]}, password: {blank:*>10s}'\n",
    "      .format(fortum=configuration['fortum'], blank=configuration['fortum']['password'][:0], ))"
   ]
  },
  {
   "cell_type": "code",
   "execution_count": 17,
   "metadata": {
    "collapsed": true
   },
   "outputs": [],
   "source": [
    "v = valpas.Valpas(configuration['fortum']['username'],\n",
    "                  configuration['fortum']['password'],\n",
    "                  configuration['fortum']['metering_point'],\n",
    "                  configuration['fortum']['weather_metering_point'])"
   ]
  },
  {
   "cell_type": "code",
   "execution_count": 18,
   "metadata": {},
   "outputs": [
    {
     "data": {
      "text/plain": [
       "2017-10-06 00:00:00+00:00    1.35\n",
       "2017-10-06 01:00:00+00:00    1.55\n",
       "2017-10-06 02:00:00+00:00    1.45\n",
       "2017-10-06 03:00:00+00:00    1.41\n",
       "2017-10-06 04:00:00+00:00    1.51\n",
       "2017-10-06 05:00:00+00:00    1.36\n",
       "2017-10-06 06:00:00+00:00    1.00\n",
       "2017-10-06 07:00:00+00:00    1.07\n",
       "2017-10-06 08:00:00+00:00    2.55\n",
       "2017-10-06 09:00:00+00:00    1.25\n",
       "2017-10-06 10:00:00+00:00    1.18\n",
       "2017-10-06 11:00:00+00:00    1.11\n",
       "2017-10-06 12:00:00+00:00    0.97\n",
       "2017-10-06 13:00:00+00:00    1.04\n",
       "2017-10-06 14:00:00+00:00    0.99\n",
       "2017-10-06 15:00:00+00:00    0.90\n",
       "2017-10-06 16:00:00+00:00    5.20\n",
       "2017-10-06 17:00:00+00:00    4.57\n",
       "2017-10-06 18:00:00+00:00    4.41\n",
       "2017-10-06 19:00:00+00:00    3.03\n",
       "2017-10-06 20:00:00+00:00    2.62\n",
       "2017-10-06 21:00:00+00:00    1.96\n",
       "2017-10-06 22:00:00+00:00    2.01\n",
       "2017-10-06 23:00:00+00:00    1.97\n",
       "2017-10-07 00:00:00+00:00    1.58\n",
       "dtype: float64"
      ]
     },
     "execution_count": 18,
     "metadata": {},
     "output_type": "execute_result"
    }
   ],
   "source": [
    "v.get_hourly_consumption('2017-10-06', '2017-10-07')"
   ]
  },
  {
   "cell_type": "code",
   "execution_count": 19,
   "metadata": {},
   "outputs": [
    {
     "data": {
      "text/plain": [
       "2017-10-06 00:00:00+00:00    4.1\n",
       "2017-10-06 01:00:00+00:00    5.1\n",
       "2017-10-06 02:00:00+00:00    6.0\n",
       "2017-10-06 03:00:00+00:00    6.3\n",
       "2017-10-06 04:00:00+00:00    6.4\n",
       "2017-10-06 05:00:00+00:00    6.4\n",
       "2017-10-06 06:00:00+00:00    6.4\n",
       "2017-10-06 07:00:00+00:00    6.2\n",
       "2017-10-06 08:00:00+00:00    6.3\n",
       "2017-10-06 09:00:00+00:00    6.9\n",
       "2017-10-06 10:00:00+00:00    7.4\n",
       "2017-10-06 11:00:00+00:00    8.0\n",
       "2017-10-06 12:00:00+00:00    8.4\n",
       "2017-10-06 13:00:00+00:00    8.6\n",
       "2017-10-06 14:00:00+00:00    8.8\n",
       "2017-10-06 15:00:00+00:00    8.8\n",
       "2017-10-06 16:00:00+00:00    8.7\n",
       "2017-10-06 17:00:00+00:00    8.3\n",
       "2017-10-06 18:00:00+00:00    8.0\n",
       "2017-10-06 19:00:00+00:00    7.2\n",
       "2017-10-06 20:00:00+00:00    7.4\n",
       "2017-10-06 21:00:00+00:00    6.8\n",
       "2017-10-06 22:00:00+00:00    6.7\n",
       "2017-10-06 23:00:00+00:00    6.5\n",
       "2017-10-07 00:00:00+00:00    6.0\n",
       "dtype: float64"
      ]
     },
     "execution_count": 19,
     "metadata": {},
     "output_type": "execute_result"
    }
   ],
   "source": [
    "v.get_temperature('2017-10-06', '2017-10-07')"
   ]
  }
 ],
 "metadata": {
  "kernelspec": {
   "display_name": "Python 3",
   "language": "python",
   "name": "python3"
  },
  "language_info": {
   "codemirror_mode": {
    "name": "ipython",
    "version": 3
   },
   "file_extension": ".py",
   "mimetype": "text/x-python",
   "name": "python",
   "nbconvert_exporter": "python",
   "pygments_lexer": "ipython3",
   "version": "3.6.2"
  }
 },
 "nbformat": 4,
 "nbformat_minor": 2
}
